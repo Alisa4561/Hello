{
 "cells": [
  {
   "cell_type": "code",
   "execution_count": 4,
   "metadata": {},
   "outputs": [],
   "source": [
    "from rdkit import Chem\n",
    "import pandas as pd\n",
    "from rdkit.Chem import AllChem, Draw, Descriptors\n",
    "from rdkit.Chem.Descriptors import rdMolDescriptors"
   ]
  },
  {
   "cell_type": "code",
   "execution_count": 5,
   "metadata": {},
   "outputs": [],
   "source": [
    "data= pd.read_csv('Data.csv')"
   ]
  },
  {
   "cell_type": "code",
   "execution_count": 13,
   "metadata": {},
   "outputs": [
    {
     "data": {
      "text/plain": [
       "'COC1CN(C(=O)c2ccc3cncc(-c4ccc(-c5cnn(C)c5)cc4)c3n2)C1'"
      ]
     },
     "execution_count": 13,
     "metadata": {},
     "output_type": "execute_result"
    }
   ],
   "source": [
    "smile = data['Smiles'][1]\n",
    "smile"
   ]
  },
  {
   "cell_type": "code",
   "execution_count": 14,
   "metadata": {},
   "outputs": [
    {
     "data": {
      "image/png": "[encoded data removed]",
      "text/plain": [
       "<rdkit.Chem.rdchem.Mol at 0x1e871269d50>"
      ]
     },
     "execution_count": 14,
     "metadata": {},
     "output_type": "execute_result"
    }
   ],
   "source": [
    "mol = Chem.MolFromSmiles(smile)\n",
    "mol"
   ]
  },
  {
   "cell_type": "code",
   "execution_count": 15,
   "metadata": {},
   "outputs": [
    {
     "name": "stdout",
     "output_type": "stream",
     "text": [
      "\n",
      "     RDKit          2D\n",
      "\n",
      " 30 34  0  0  0  0  0  0  0  0999 V2000\n",
      "   -2.5607   -7.0333    0.0000 C   0  0  0  0  0  0  0  0  0  0  0  0\n",
      "   -1.0607   -7.0333    0.0000 O   0  0  0  0  0  0  0  0  0  0  0  0\n",
      "   -0.3107   -5.7342    0.0000 C   0  0  0  0  0  0  0  0  0  0  0  0\n",
      "   -0.6989   -4.2853    0.0000 C   0  0  0  0  0  0  0  0  0  0  0  0\n",
      "    0.7500   -3.8971    0.0000 N   0  0  0  0  0  0  0  0  0  0  0  0\n",
      "    1.5000   -2.5981    0.0000 C   0  0  0  0  0  0  0  0  0  0  0  0\n",
      "    3.0000   -2.5981    0.0000 O   0  0  0  0  0  0  0  0  0  0  0  0\n",
      "    0.7500   -1.2990    0.0000 C   0  0  0  0  0  0  0  0  0  0  0  0\n",
      "    1.5000    0.0000    0.0000 C   0  0  0  0  0  0  0  0  0  0  0  0\n",
      "    0.7500    1.2990    0.0000 C   0  0  0  0  0  0  0  0  0  0  0  0\n",
      "   -0.7500    1.2990    0.0000 C   0  0  0  0  0  0  0  0  0  0  0  0\n",
      "   -1.5000    2.5981    0.0000 C   0  0  0  0  0  0  0  0  0  0  0  0\n",
      "   -3.0000    2.5981    0.0000 N   0  0  0  0  0  0  0  0  0  0  0  0\n",
      "   -3.7500    1.2990    0.0000 C   0  0  0  0  0  0  0  0  0  0  0  0\n",
      "   -3.0000    0.0000    0.0000 C   0  0  0  0  0  0  0  0  0  0  0  0\n",
      "   -3.7500   -1.2990    0.0000 C   0  0  0  0  0  0  0  0  0  0  0  0\n",
      "   -5.2500   -1.2990    0.0000 C   0  0  0  0  0  0  0  0  0  0  0  0\n",
      "   -6.0000   -2.5981    0.0000 C   0  0  0  0  0  0  0  0  0  0  0  0\n",
      "   -5.2500   -3.8971    0.0000 C   0  0  0  0  0  0  0  0  0  0  0  0\n",
      "   -6.0000   -5.1962    0.0000 C   0  0  0  0  0  0  0  0  0  0  0  0\n",
      "   -5.3899   -6.5665    0.0000 C   0  0  0  0  0  0  0  0  0  0  0  0\n",
      "   -6.5046   -7.5702    0.0000 N   0  0  0  0  0  0  0  0  0  0  0  0\n",
      "   -7.8037   -6.8202    0.0000 N   0  0  0  0  0  0  0  0  0  0  0  0\n",
      "   -9.1740   -7.4303    0.0000 C   0  0  0  0  0  0  0  0  0  0  0  0\n",
      "   -7.4918   -5.3529    0.0000 C   0  0  0  0  0  0  0  0  0  0  0  0\n",
      "   -3.7500   -3.8971    0.0000 C   0  0  0  0  0  0  0  0  0  0  0  0\n",
      "   -3.0000   -2.5981    0.0000 C   0  0  0  0  0  0  0  0  0  0  0  0\n",
      "   -1.5000    0.0000    0.0000 C   0  0  0  0  0  0  0  0  0  0  0  0\n",
      "   -0.7500   -1.2990    0.0000 N   0  0  0  0  0  0  0  0  0  0  0  0\n",
      "    1.1382   -5.3460    0.0000 C   0  0  0  0  0  0  0  0  0  0  0  0\n",
      "  1  2  1  0\n",
      "  2  3  1  0\n",
      "  3  4  1  0\n",
      "  4  5  1  0\n",
      "  5  6  1  0\n",
      "  6  7  2  0\n",
      "  6  8  1  0\n",
      "  8  9  2  0\n",
      "  9 10  1  0\n",
      " 10 11  2  0\n",
      " 11 12  1  0\n",
      " 12 13  2  0\n",
      " 13 14  1  0\n",
      " 14 15  2  0\n",
      " 15 16  1  0\n",
      " 16 17  2  0\n",
      " 17 18  1  0\n",
      " 18 19  2  0\n",
      " 19 20  1  0\n",
      " 20 21  1  0\n",
      " 21 22  2  0\n",
      " 22 23  1  0\n",
      " 23 24  1  0\n",
      " 23 25  1  0\n",
      " 19 26  1  0\n",
      " 26 27  2  0\n",
      " 15 28  1  0\n",
      " 28 29  2  0\n",
      "  5 30  1  0\n",
      " 30  3  1  0\n",
      " 29  8  1  0\n",
      " 28 11  1  0\n",
      " 27 16  1  0\n",
      " 25 20  2  0\n",
      "M  END\n",
      "\n"
     ]
    }
   ],
   "source": [
    "print(Chem.MolToMolBlock(mol))"
   ]
  },
  {
   "cell_type": "code",
   "execution_count": 16,
   "metadata": {},
   "outputs": [
    {
     "data": {
      "image/png": "[encoded data removed]",
      "text/plain": [
       "<rdkit.Chem.rdchem.Mol at 0x1e871269d50>"
      ]
     },
     "execution_count": 16,
     "metadata": {},
     "output_type": "execute_result"
    }
   ],
   "source": [
    "AllChem.EmbedMolecule(mol)\n",
    "mol"
   ]
  },
  {
   "cell_type": "code",
   "execution_count": 17,
   "metadata": {},
   "outputs": [],
   "source": [
    "def describe_mol(mol):\n",
    "    mw = round(Descriptors.MolWt(mol), 3)\n",
    "    logP = round(Descriptors.MolLogP(mol), 3)\n",
    "    des_obj = rdMolDescriptors.GetMACCSKeysFingerprint(mol)\n",
    "    des = des_obj.ToBitString()\n",
    "    print(f'Молекулярная масса: {mw} \\nLogP: {logP} \\nMACCSKeys: {des}')"
   ]
  },
  {
   "cell_type": "code",
   "execution_count": 18,
   "metadata": {},
   "outputs": [
    {
     "name": "stdout",
     "output_type": "stream",
     "text": [
      "Молекулярная масса: 399.454 \n",
      "LogP: 3.168 \n",
      "MACCSKeys: 00000000100100000000000000000000000000000000000000001000000000100100000000010001100101100000111110101100010000100000110011101111000010000110001101001100111011111111110\n"
     ]
    }
   ],
   "source": [
    "describe_mol(mol)"
   ]
  },
  {
   "cell_type": "code",
   "execution_count": null,
   "metadata": {},
   "outputs": [],
   "source": []
  },
  {
   "cell_type": "code",
   "execution_count": null,
   "metadata": {},
   "outputs": [],
   "source": []
  }
 ],
 "metadata": {
  "kernelspec": {
   "display_name": "Python 3",
   "language": "python",
   "name": "python3"
  },
  "language_info": {
   "codemirror_mode": {
    "name": "ipython",
    "version": 3
   },
   "file_extension": ".py",
   "mimetype": "text/x-python",
   "name": "python",
   "nbconvert_exporter": "python",
   "pygments_lexer": "ipython3",
   "version": "3.8.5"
  }
 },
 "nbformat": 4,
 "nbformat_minor": 4
}
