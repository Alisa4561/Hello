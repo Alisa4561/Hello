{
 "cells": [
  {
   "cell_type": "code",
   "execution_count": 38,
   "metadata": {
    "id": "TucSRzmGCHS9"
   },
   "outputs": [],
   "source": [
    "import pandas as pd"
   ]
  },
  {
   "cell_type": "code",
   "execution_count": 43,
   "metadata": {
    "id": "sWFcrIgOIFTM"
   },
   "outputs": [],
   "source": [
    "data = pd.read_csv('CDK8.csv', sep=';')"
   ]
  },
  {
   "cell_type": "code",
   "execution_count": 44,
   "metadata": {
    "colab": {
     "base_uri": "https://localhost:8080/",
     "height": 445
    },
    "id": "N8irVvsLDPdE",
    "outputId": "3a84d958-8289-4eed-8cca-29aeb68b10d4"
   },
   "outputs": [
    {
     "data": {
      "text/html": [
       "<div>\n",
       "<style scoped>\n",
       "    .dataframe tbody tr th:only-of-type {\n",
       "        vertical-align: middle;\n",
       "    }\n",
       "\n",
       "    .dataframe tbody tr th {\n",
       "        vertical-align: top;\n",
       "    }\n",
       "\n",
       "    .dataframe thead th {\n",
       "        text-align: right;\n",
       "    }\n",
       "</style>\n",
       "<table border=\"1\" class=\"dataframe\">\n",
       "  <thead>\n",
       "    <tr style=\"text-align: right;\">\n",
       "      <th></th>\n",
       "      <th>Molecule ChEMBL ID</th>\n",
       "      <th>Molecule Name</th>\n",
       "      <th>Molecule Max Phase</th>\n",
       "      <th>Molecular Weight</th>\n",
       "      <th>#RO5 Violations</th>\n",
       "      <th>AlogP</th>\n",
       "      <th>Compound Key</th>\n",
       "      <th>Smiles</th>\n",
       "      <th>Standard Type</th>\n",
       "      <th>Standard Relation</th>\n",
       "      <th>...</th>\n",
       "      <th>Target ChEMBL ID</th>\n",
       "      <th>Target Name</th>\n",
       "      <th>Target Organism</th>\n",
       "      <th>Target Type</th>\n",
       "      <th>Document ChEMBL ID</th>\n",
       "      <th>Source ID</th>\n",
       "      <th>Source Description</th>\n",
       "      <th>Document Journal</th>\n",
       "      <th>Document Year</th>\n",
       "      <th>Cell ChEMBL ID</th>\n",
       "    </tr>\n",
       "  </thead>\n",
       "  <tbody>\n",
       "    <tr>\n",
       "      <th>0</th>\n",
       "      <td>CHEMBL3903492</td>\n",
       "      <td>NaN</td>\n",
       "      <td>0</td>\n",
       "      <td>340.81</td>\n",
       "      <td>0</td>\n",
       "      <td>3.90</td>\n",
       "      <td>25; MSC2530818</td>\n",
       "      <td>Cc1n[nH]c2ncc(C(=O)N3CCC[C@H]3c3ccc(Cl)cc3)cc12</td>\n",
       "      <td>TIME</td>\n",
       "      <td>'='</td>\n",
       "      <td>...</td>\n",
       "      <td>CHEMBL3038474</td>\n",
       "      <td>CDK8/Cyclin C</td>\n",
       "      <td>Homo sapiens</td>\n",
       "      <td>PROTEIN COMPLEX</td>\n",
       "      <td>CHEMBL3853318</td>\n",
       "      <td>1</td>\n",
       "      <td>Scientific Literature</td>\n",
       "      <td>J Med Chem</td>\n",
       "      <td>2016</td>\n",
       "      <td>None</td>\n",
       "    </tr>\n",
       "    <tr>\n",
       "      <th>1</th>\n",
       "      <td>CHEMBL3827118</td>\n",
       "      <td>NaN</td>\n",
       "      <td>0</td>\n",
       "      <td>399.45</td>\n",
       "      <td>0</td>\n",
       "      <td>3.17</td>\n",
       "      <td>13</td>\n",
       "      <td>COC1CN(C(=O)c2ccc3cncc(-c4ccc(-c5cnn(C)c5)cc4)...</td>\n",
       "      <td>IC50</td>\n",
       "      <td>'='</td>\n",
       "      <td>...</td>\n",
       "      <td>CHEMBL3038474</td>\n",
       "      <td>CDK8/Cyclin C</td>\n",
       "      <td>Homo sapiens</td>\n",
       "      <td>PROTEIN COMPLEX</td>\n",
       "      <td>CHEMBL3826875</td>\n",
       "      <td>1</td>\n",
       "      <td>Scientific Literature</td>\n",
       "      <td>ACS Med. Chem. Lett.</td>\n",
       "      <td>2016</td>\n",
       "      <td>None</td>\n",
       "    </tr>\n",
       "    <tr>\n",
       "      <th>2</th>\n",
       "      <td>CHEMBL604483</td>\n",
       "      <td>NaN</td>\n",
       "      <td>0</td>\n",
       "      <td>559.67</td>\n",
       "      <td>2</td>\n",
       "      <td>5.86</td>\n",
       "      <td>23</td>\n",
       "      <td>COc1cc2c(Oc3ccc(-c4nc5ccccc5s4)cc3F)ncnc2cc1OC...</td>\n",
       "      <td>Residual activity</td>\n",
       "      <td>'='</td>\n",
       "      <td>...</td>\n",
       "      <td>CHEMBL3038474</td>\n",
       "      <td>CDK8/Cyclin C</td>\n",
       "      <td>Homo sapiens</td>\n",
       "      <td>PROTEIN COMPLEX</td>\n",
       "      <td>CHEMBL1152560</td>\n",
       "      <td>1</td>\n",
       "      <td>Scientific Literature</td>\n",
       "      <td>Bioorg. Med. Chem.</td>\n",
       "      <td>2009</td>\n",
       "      <td>None</td>\n",
       "    </tr>\n",
       "    <tr>\n",
       "      <th>3</th>\n",
       "      <td>CHEMBL3827904</td>\n",
       "      <td>NaN</td>\n",
       "      <td>0</td>\n",
       "      <td>419.44</td>\n",
       "      <td>0</td>\n",
       "      <td>3.98</td>\n",
       "      <td>61</td>\n",
       "      <td>Cn1cc(-c2ccc(-c3cnc(N)c4ccc(C(=O)N5CC(F)(F)C5)...</td>\n",
       "      <td>IC50</td>\n",
       "      <td>'='</td>\n",
       "      <td>...</td>\n",
       "      <td>CHEMBL3038474</td>\n",
       "      <td>CDK8/Cyclin C</td>\n",
       "      <td>Homo sapiens</td>\n",
       "      <td>PROTEIN COMPLEX</td>\n",
       "      <td>CHEMBL3826875</td>\n",
       "      <td>1</td>\n",
       "      <td>Scientific Literature</td>\n",
       "      <td>ACS Med. Chem. Lett.</td>\n",
       "      <td>2016</td>\n",
       "      <td>None</td>\n",
       "    </tr>\n",
       "    <tr>\n",
       "      <th>4</th>\n",
       "      <td>CHEMBL3746293</td>\n",
       "      <td>NaN</td>\n",
       "      <td>0</td>\n",
       "      <td>529.60</td>\n",
       "      <td>1</td>\n",
       "      <td>4.74</td>\n",
       "      <td>23</td>\n",
       "      <td>Cc1c(-c2cc(Nc3cc4n(n3)CCN(C)C4)c(=O)[nH]n2)ccc...</td>\n",
       "      <td>Inhibition</td>\n",
       "      <td>'='</td>\n",
       "      <td>...</td>\n",
       "      <td>CHEMBL3038474</td>\n",
       "      <td>CDK8/Cyclin C</td>\n",
       "      <td>Homo sapiens</td>\n",
       "      <td>PROTEIN COMPLEX</td>\n",
       "      <td>CHEMBL3745631</td>\n",
       "      <td>1</td>\n",
       "      <td>Scientific Literature</td>\n",
       "      <td>Bioorg. Med. Chem. Lett.</td>\n",
       "      <td>2016</td>\n",
       "      <td>None</td>\n",
       "    </tr>\n",
       "  </tbody>\n",
       "</table>\n",
       "<p>5 rows × 41 columns</p>\n",
       "</div>"
      ],
      "text/plain": [
       "  Molecule ChEMBL ID Molecule Name  Molecule Max Phase  Molecular Weight  \\\n",
       "0      CHEMBL3903492           NaN                   0            340.81   \n",
       "1      CHEMBL3827118           NaN                   0            399.45   \n",
       "2       CHEMBL604483           NaN                   0            559.67   \n",
       "3      CHEMBL3827904           NaN                   0            419.44   \n",
       "4      CHEMBL3746293           NaN                   0            529.60   \n",
       "\n",
       "   #RO5 Violations  AlogP    Compound Key  \\\n",
       "0                0   3.90  25; MSC2530818   \n",
       "1                0   3.17              13   \n",
       "2                2   5.86              23   \n",
       "3                0   3.98              61   \n",
       "4                1   4.74              23   \n",
       "\n",
       "                                              Smiles      Standard Type  \\\n",
       "0    Cc1n[nH]c2ncc(C(=O)N3CCC[C@H]3c3ccc(Cl)cc3)cc12               TIME   \n",
       "1  COC1CN(C(=O)c2ccc3cncc(-c4ccc(-c5cnn(C)c5)cc4)...               IC50   \n",
       "2  COc1cc2c(Oc3ccc(-c4nc5ccccc5s4)cc3F)ncnc2cc1OC...  Residual activity   \n",
       "3  Cn1cc(-c2ccc(-c3cnc(N)c4ccc(C(=O)N5CC(F)(F)C5)...               IC50   \n",
       "4  Cc1c(-c2cc(Nc3cc4n(n3)CCN(C)C4)c(=O)[nH]n2)ccc...         Inhibition   \n",
       "\n",
       "  Standard Relation  ...  Target ChEMBL ID    Target Name  Target Organism  \\\n",
       "0               '='  ...     CHEMBL3038474  CDK8/Cyclin C     Homo sapiens   \n",
       "1               '='  ...     CHEMBL3038474  CDK8/Cyclin C     Homo sapiens   \n",
       "2               '='  ...     CHEMBL3038474  CDK8/Cyclin C     Homo sapiens   \n",
       "3               '='  ...     CHEMBL3038474  CDK8/Cyclin C     Homo sapiens   \n",
       "4               '='  ...     CHEMBL3038474  CDK8/Cyclin C     Homo sapiens   \n",
       "\n",
       "       Target Type Document ChEMBL ID Source ID     Source Description  \\\n",
       "0  PROTEIN COMPLEX      CHEMBL3853318         1  Scientific Literature   \n",
       "1  PROTEIN COMPLEX      CHEMBL3826875         1  Scientific Literature   \n",
       "2  PROTEIN COMPLEX      CHEMBL1152560         1  Scientific Literature   \n",
       "3  PROTEIN COMPLEX      CHEMBL3826875         1  Scientific Literature   \n",
       "4  PROTEIN COMPLEX      CHEMBL3745631         1  Scientific Literature   \n",
       "\n",
       "           Document Journal  Document Year  Cell ChEMBL ID  \n",
       "0                J Med Chem           2016            None  \n",
       "1      ACS Med. Chem. Lett.           2016            None  \n",
       "2        Bioorg. Med. Chem.           2009            None  \n",
       "3      ACS Med. Chem. Lett.           2016            None  \n",
       "4  Bioorg. Med. Chem. Lett.           2016            None  \n",
       "\n",
       "[5 rows x 41 columns]"
      ]
     },
     "execution_count": 44,
     "metadata": {},
     "output_type": "execute_result"
    }
   ],
   "source": [
    "data.head()"
   ]
  },
  {
   "cell_type": "code",
   "execution_count": 45,
   "metadata": {
    "colab": {
     "base_uri": "https://localhost:8080/",
     "height": 34
    },
    "id": "2lyWfuOeI3Cd",
    "outputId": "47ebda34-1875-4b71-ab00-f28afb8304d0"
   },
   "outputs": [
    {
     "data": {
      "text/plain": [
       "(386, 41)"
      ]
     },
     "execution_count": 45,
     "metadata": {},
     "output_type": "execute_result"
    }
   ],
   "source": [
    "data.shape"
   ]
  },
  {
   "cell_type": "code",
   "execution_count": 46,
   "metadata": {
    "colab": {
     "base_uri": "https://localhost:8080/",
     "height": 745
    },
    "id": "gIpvYNIoUUz4",
    "outputId": "e91c39c4-d477-4ed9-a979-c0d7df17d36b"
   },
   "outputs": [
    {
     "data": {
      "text/plain": [
       "['Molecule ChEMBL ID',\n",
       " 'Molecule Name',\n",
       " 'Molecule Max Phase',\n",
       " 'Molecular Weight',\n",
       " '#RO5 Violations',\n",
       " 'AlogP',\n",
       " 'Compound Key',\n",
       " 'Smiles',\n",
       " 'Standard Type',\n",
       " 'Standard Relation',\n",
       " 'Standard Value',\n",
       " 'Standard Units',\n",
       " 'pChEMBL Value',\n",
       " 'Data Validity Comment',\n",
       " 'Comment',\n",
       " 'Uo Units',\n",
       " 'Ligand Efficiency BEI',\n",
       " 'Ligand Efficiency LE',\n",
       " 'Ligand Efficiency LLE',\n",
       " 'Ligand Efficiency SEI',\n",
       " 'Potential Duplicate',\n",
       " 'Assay ChEMBL ID',\n",
       " 'Assay Description',\n",
       " 'Assay Type',\n",
       " 'BAO Format ID',\n",
       " 'BAO Label',\n",
       " 'Assay Organism',\n",
       " 'Assay Tissue ChEMBL ID',\n",
       " 'Assay Tissue Name',\n",
       " 'Assay Cell Type',\n",
       " 'Assay Subcellular Fraction',\n",
       " 'Target ChEMBL ID',\n",
       " 'Target Name',\n",
       " 'Target Organism',\n",
       " 'Target Type',\n",
       " 'Document ChEMBL ID',\n",
       " 'Source ID',\n",
       " 'Source Description',\n",
       " 'Document Journal',\n",
       " 'Document Year',\n",
       " 'Cell ChEMBL ID']"
      ]
     },
     "execution_count": 46,
     "metadata": {},
     "output_type": "execute_result"
    }
   ],
   "source": [
    "\n",
    "cols = list(data.columns)\n",
    "cols"
   ]
  },
  {
   "cell_type": "code",
   "execution_count": 47,
   "metadata": {
    "id": "N9XYqvP_Ukuo"
   },
   "outputs": [],
   "source": [
    "cols_we_need = ['Molecule ChEMBL ID', \n",
    "                'Smiles', \n",
    "                'Standard Type', \n",
    "                'Standard Value', \n",
    "                'Standard Units',\n",
    "                'Assay Type',\n",
    "                'Assay Organism',\n",
    "                'Target Organism']"
   ]
  },
  {
   "cell_type": "code",
   "execution_count": 48,
   "metadata": {
    "colab": {
     "base_uri": "https://localhost:8080/",
     "height": 158
    },
    "id": "bvgRHNU9U2RC",
    "outputId": "0f181f88-ec0a-4bd7-e6c4-000c016eebd0"
   },
   "outputs": [
    {
     "data": {
      "text/plain": [
       "['Molecule ChEMBL ID',\n",
       " 'Smiles',\n",
       " 'Standard Type',\n",
       " 'Standard Value',\n",
       " 'Standard Units',\n",
       " 'Assay Type',\n",
       " 'Assay Organism',\n",
       " 'Target Organism']"
      ]
     },
     "execution_count": 48,
     "metadata": {},
     "output_type": "execute_result"
    }
   ],
   "source": [
    "cols_we_need"
   ]
  },
  {
   "cell_type": "code",
   "execution_count": 49,
   "metadata": {
    "id": "HkEULXYEWVA6"
   },
   "outputs": [],
   "source": [
    "data_ed = data[cols_we_need]"
   ]
  },
  {
   "cell_type": "code",
   "execution_count": 50,
   "metadata": {
    "colab": {
     "base_uri": "https://localhost:8080/",
     "height": 406
    },
    "id": "oGiURBmXfcT1",
    "outputId": "b88f25ad-a7b4-4498-e945-6cf2f6ae6e52"
   },
   "outputs": [
    {
     "data": {
      "text/html": [
       "<div>\n",
       "<style scoped>\n",
       "    .dataframe tbody tr th:only-of-type {\n",
       "        vertical-align: middle;\n",
       "    }\n",
       "\n",
       "    .dataframe tbody tr th {\n",
       "        vertical-align: top;\n",
       "    }\n",
       "\n",
       "    .dataframe thead th {\n",
       "        text-align: right;\n",
       "    }\n",
       "</style>\n",
       "<table border=\"1\" class=\"dataframe\">\n",
       "  <thead>\n",
       "    <tr style=\"text-align: right;\">\n",
       "      <th></th>\n",
       "      <th>Molecule ChEMBL ID</th>\n",
       "      <th>Smiles</th>\n",
       "      <th>Standard Type</th>\n",
       "      <th>Standard Value</th>\n",
       "      <th>Standard Units</th>\n",
       "      <th>Assay Type</th>\n",
       "      <th>Assay Organism</th>\n",
       "      <th>Target Organism</th>\n",
       "    </tr>\n",
       "  </thead>\n",
       "  <tbody>\n",
       "    <tr>\n",
       "      <th>0</th>\n",
       "      <td>CHEMBL3903492</td>\n",
       "      <td>Cc1n[nH]c2ncc(C(=O)N3CCC[C@H]3c3ccc(Cl)cc3)cc12</td>\n",
       "      <td>TIME</td>\n",
       "      <td>0.3</td>\n",
       "      <td>hr</td>\n",
       "      <td>B</td>\n",
       "      <td>Homo sapiens</td>\n",
       "      <td>Homo sapiens</td>\n",
       "    </tr>\n",
       "    <tr>\n",
       "      <th>1</th>\n",
       "      <td>CHEMBL3827118</td>\n",
       "      <td>COC1CN(C(=O)c2ccc3cncc(-c4ccc(-c5cnn(C)c5)cc4)...</td>\n",
       "      <td>IC50</td>\n",
       "      <td>5.2</td>\n",
       "      <td>nM</td>\n",
       "      <td>B</td>\n",
       "      <td>Homo sapiens</td>\n",
       "      <td>Homo sapiens</td>\n",
       "    </tr>\n",
       "    <tr>\n",
       "      <th>2</th>\n",
       "      <td>CHEMBL604483</td>\n",
       "      <td>COc1cc2c(Oc3ccc(-c4nc5ccccc5s4)cc3F)ncnc2cc1OC...</td>\n",
       "      <td>Residual activity</td>\n",
       "      <td>75.0</td>\n",
       "      <td>%</td>\n",
       "      <td>B</td>\n",
       "      <td>None</td>\n",
       "      <td>Homo sapiens</td>\n",
       "    </tr>\n",
       "    <tr>\n",
       "      <th>3</th>\n",
       "      <td>CHEMBL3827904</td>\n",
       "      <td>Cn1cc(-c2ccc(-c3cnc(N)c4ccc(C(=O)N5CC(F)(F)C5)...</td>\n",
       "      <td>IC50</td>\n",
       "      <td>12.0</td>\n",
       "      <td>nM</td>\n",
       "      <td>B</td>\n",
       "      <td>Homo sapiens</td>\n",
       "      <td>Homo sapiens</td>\n",
       "    </tr>\n",
       "    <tr>\n",
       "      <th>4</th>\n",
       "      <td>CHEMBL3746293</td>\n",
       "      <td>Cc1c(-c2cc(Nc3cc4n(n3)CCN(C)C4)c(=O)[nH]n2)ccc...</td>\n",
       "      <td>Inhibition</td>\n",
       "      <td>1.0</td>\n",
       "      <td>%</td>\n",
       "      <td>B</td>\n",
       "      <td>Homo sapiens</td>\n",
       "      <td>Homo sapiens</td>\n",
       "    </tr>\n",
       "    <tr>\n",
       "      <th>...</th>\n",
       "      <td>...</td>\n",
       "      <td>...</td>\n",
       "      <td>...</td>\n",
       "      <td>...</td>\n",
       "      <td>...</td>\n",
       "      <td>...</td>\n",
       "      <td>...</td>\n",
       "      <td>...</td>\n",
       "    </tr>\n",
       "    <tr>\n",
       "      <th>381</th>\n",
       "      <td>CHEMBL4080906</td>\n",
       "      <td>CN(C)[C@H]1C[C@@]23CC[C@@]4(O2)C(=CC[C@]2(C)[C...</td>\n",
       "      <td>IC50</td>\n",
       "      <td>5.0</td>\n",
       "      <td>nM</td>\n",
       "      <td>B</td>\n",
       "      <td>Homo sapiens</td>\n",
       "      <td>Homo sapiens</td>\n",
       "    </tr>\n",
       "    <tr>\n",
       "      <th>382</th>\n",
       "      <td>CHEMBL4076837</td>\n",
       "      <td>CN1CCN(C(=O)c2ccc3cc(CCNc4ncnc5ccc(C#N)cc45)cc...</td>\n",
       "      <td>IC50</td>\n",
       "      <td>24.0</td>\n",
       "      <td>nM</td>\n",
       "      <td>B</td>\n",
       "      <td>Homo sapiens</td>\n",
       "      <td>Homo sapiens</td>\n",
       "    </tr>\n",
       "    <tr>\n",
       "      <th>383</th>\n",
       "      <td>CHEMBL4173631</td>\n",
       "      <td>Cn1cc(-c2ccc(S(=O)(=O)N3CCC(Nc4ccc(C#N)cn4)CC3...</td>\n",
       "      <td>IC50</td>\n",
       "      <td>10000.0</td>\n",
       "      <td>nM</td>\n",
       "      <td>B</td>\n",
       "      <td>Homo sapiens</td>\n",
       "      <td>Homo sapiens</td>\n",
       "    </tr>\n",
       "    <tr>\n",
       "      <th>384</th>\n",
       "      <td>CHEMBL4217392</td>\n",
       "      <td>CS(=O)(=O)N1CCN(Cc2nc3c(N4CCOCC4)nc(-c4cnc(N)n...</td>\n",
       "      <td>Inhibition</td>\n",
       "      <td>25.0</td>\n",
       "      <td>%</td>\n",
       "      <td>B</td>\n",
       "      <td>Homo sapiens</td>\n",
       "      <td>Homo sapiens</td>\n",
       "    </tr>\n",
       "    <tr>\n",
       "      <th>385</th>\n",
       "      <td>CHEMBL4277900</td>\n",
       "      <td>CC1=Nc2c(F)cc(-c3nc(Nc4ccc(C5CCN(C)CC5)cn4)ncc...</td>\n",
       "      <td>Inhibition</td>\n",
       "      <td>43.0</td>\n",
       "      <td>%</td>\n",
       "      <td>B</td>\n",
       "      <td>Homo sapiens</td>\n",
       "      <td>Homo sapiens</td>\n",
       "    </tr>\n",
       "  </tbody>\n",
       "</table>\n",
       "<p>386 rows × 8 columns</p>\n",
       "</div>"
      ],
      "text/plain": [
       "    Molecule ChEMBL ID                                             Smiles  \\\n",
       "0        CHEMBL3903492    Cc1n[nH]c2ncc(C(=O)N3CCC[C@H]3c3ccc(Cl)cc3)cc12   \n",
       "1        CHEMBL3827118  COC1CN(C(=O)c2ccc3cncc(-c4ccc(-c5cnn(C)c5)cc4)...   \n",
       "2         CHEMBL604483  COc1cc2c(Oc3ccc(-c4nc5ccccc5s4)cc3F)ncnc2cc1OC...   \n",
       "3        CHEMBL3827904  Cn1cc(-c2ccc(-c3cnc(N)c4ccc(C(=O)N5CC(F)(F)C5)...   \n",
       "4        CHEMBL3746293  Cc1c(-c2cc(Nc3cc4n(n3)CCN(C)C4)c(=O)[nH]n2)ccc...   \n",
       "..                 ...                                                ...   \n",
       "381      CHEMBL4080906  CN(C)[C@H]1C[C@@]23CC[C@@]4(O2)C(=CC[C@]2(C)[C...   \n",
       "382      CHEMBL4076837  CN1CCN(C(=O)c2ccc3cc(CCNc4ncnc5ccc(C#N)cc45)cc...   \n",
       "383      CHEMBL4173631  Cn1cc(-c2ccc(S(=O)(=O)N3CCC(Nc4ccc(C#N)cn4)CC3...   \n",
       "384      CHEMBL4217392  CS(=O)(=O)N1CCN(Cc2nc3c(N4CCOCC4)nc(-c4cnc(N)n...   \n",
       "385      CHEMBL4277900  CC1=Nc2c(F)cc(-c3nc(Nc4ccc(C5CCN(C)CC5)cn4)ncc...   \n",
       "\n",
       "         Standard Type  Standard Value Standard Units Assay Type  \\\n",
       "0                 TIME             0.3             hr          B   \n",
       "1                 IC50             5.2             nM          B   \n",
       "2    Residual activity            75.0              %          B   \n",
       "3                 IC50            12.0             nM          B   \n",
       "4           Inhibition             1.0              %          B   \n",
       "..                 ...             ...            ...        ...   \n",
       "381               IC50             5.0             nM          B   \n",
       "382               IC50            24.0             nM          B   \n",
       "383               IC50         10000.0             nM          B   \n",
       "384         Inhibition            25.0              %          B   \n",
       "385         Inhibition            43.0              %          B   \n",
       "\n",
       "    Assay Organism Target Organism  \n",
       "0     Homo sapiens    Homo sapiens  \n",
       "1     Homo sapiens    Homo sapiens  \n",
       "2             None    Homo sapiens  \n",
       "3     Homo sapiens    Homo sapiens  \n",
       "4     Homo sapiens    Homo sapiens  \n",
       "..             ...             ...  \n",
       "381   Homo sapiens    Homo sapiens  \n",
       "382   Homo sapiens    Homo sapiens  \n",
       "383   Homo sapiens    Homo sapiens  \n",
       "384   Homo sapiens    Homo sapiens  \n",
       "385   Homo sapiens    Homo sapiens  \n",
       "\n",
       "[386 rows x 8 columns]"
      ]
     },
     "execution_count": 50,
     "metadata": {},
     "output_type": "execute_result"
    }
   ],
   "source": [
    "data_ed"
   ]
  },
  {
   "cell_type": "code",
   "execution_count": 51,
   "metadata": {
    "colab": {
     "base_uri": "https://localhost:8080/",
     "height": 176
    },
    "id": "Pia4ypvwfukB",
    "outputId": "2fba2bc9-008e-4dc8-98b1-136a45430ff2"
   },
   "outputs": [
    {
     "data": {
      "text/plain": [
       "Molecule ChEMBL ID    0\n",
       "Smiles                0\n",
       "Standard Type         0\n",
       "Standard Value        3\n",
       "Standard Units        3\n",
       "Assay Type            0\n",
       "Assay Organism        0\n",
       "Target Organism       0\n",
       "dtype: int64"
      ]
     },
     "execution_count": 51,
     "metadata": {},
     "output_type": "execute_result"
    }
   ],
   "source": [
    "data_ed.isna().sum()"
   ]
  },
  {
   "cell_type": "code",
   "execution_count": 52,
   "metadata": {
    "id": "f4rRfzplhwTT"
   },
   "outputs": [],
   "source": [
    "data_ed = data_ed.dropna()"
   ]
  },
  {
   "cell_type": "code",
   "execution_count": 53,
   "metadata": {
    "colab": {
     "base_uri": "https://localhost:8080/",
     "height": 176
    },
    "id": "tbxK5A3RiYUa",
    "outputId": "677bcf3f-4996-4ee1-eec6-b5b9db6f553f"
   },
   "outputs": [
    {
     "data": {
      "text/plain": [
       "Molecule ChEMBL ID    0\n",
       "Smiles                0\n",
       "Standard Type         0\n",
       "Standard Value        0\n",
       "Standard Units        0\n",
       "Assay Type            0\n",
       "Assay Organism        0\n",
       "Target Organism       0\n",
       "dtype: int64"
      ]
     },
     "execution_count": 53,
     "metadata": {},
     "output_type": "execute_result"
    }
   ],
   "source": [
    "data_ed.isna().sum()"
   ]
  },
  {
   "cell_type": "code",
   "execution_count": 54,
   "metadata": {
    "id": "tSpxbpqJibtO"
   },
   "outputs": [],
   "source": [
    "u_values = []\n",
    "for i in range(0,len(data_ed.columns)):\n",
    "  u_val = data_ed[data_ed.columns[i]].nunique()\n",
    "  u_values.append(u_val)"
   ]
  },
  {
   "cell_type": "code",
   "execution_count": 55,
   "metadata": {
    "colab": {
     "base_uri": "https://localhost:8080/",
     "height": 34
    },
    "id": "GARjDP1ljD1f",
    "outputId": "96afa81b-51ba-41ee-ecda-a4c5a763b39c"
   },
   "outputs": [
    {
     "data": {
      "text/plain": [
       "[338, 338, 5, 184, 3, 1, 2, 1]"
      ]
     },
     "execution_count": 55,
     "metadata": {},
     "output_type": "execute_result"
    }
   ],
   "source": [
    "u_values"
   ]
  },
  {
   "cell_type": "code",
   "execution_count": 56,
   "metadata": {
    "id": "reEUNUL0jFLz"
   },
   "outputs": [],
   "source": [
    "data_ed_droped = data_ed.drop(['Molecule ChEMBL ID', 'Smiles', 'Standard Value'], axis = 1)"
   ]
  },
  {
   "cell_type": "code",
   "execution_count": 57,
   "metadata": {
    "id": "DGWXMAPerC12"
   },
   "outputs": [],
   "source": [
    "u_name_values = []\n",
    "for i in range(0,len(data_ed_droped.columns)):\n",
    "  u_n_val = list(data_ed[data_ed_droped.columns[i]].unique())\n",
    "  u_name_values.append(u_n_val)"
   ]
  },
  {
   "cell_type": "code",
   "execution_count": 58,
   "metadata": {
    "colab": {
     "base_uri": "https://localhost:8080/",
     "height": 105
    },
    "id": "ls-fljaUrKkc",
    "outputId": "12eb2b50-6bc5-41c5-a505-d0068140c88c"
   },
   "outputs": [
    {
     "data": {
      "text/plain": [
       "[['TIME', 'IC50', 'Residual activity', 'Inhibition', 'INH'],\n",
       " ['hr', 'nM', '%'],\n",
       " ['B'],\n",
       " ['Homo sapiens', 'None'],\n",
       " ['Homo sapiens']]"
      ]
     },
     "execution_count": 58,
     "metadata": {},
     "output_type": "execute_result"
    }
   ],
   "source": [
    "u_name_values"
   ]
  },
  {
   "cell_type": "code",
   "execution_count": 59,
   "metadata": {
    "id": "xviHSoP0vAz0"
   },
   "outputs": [],
   "source": [
    "data_ed = data_ed.rename({'Molecule ChEMBL ID':'molecule_chembl_id',\n",
    "                          'Standard Type':'standard_type',\n",
    "                          'Standard Value':'standard_value',\n",
    "                          'Standard Units':'standard_units',\n",
    "                          'Assay Type':'assay_type',\n",
    "                          'Assay Organism':'assay_organism',\n",
    "                          'Target Organism':'target_organism'}, axis = 1)"
   ]
  },
  {
   "cell_type": "code",
   "execution_count": 60,
   "metadata": {
    "colab": {
     "base_uri": "https://localhost:8080/",
     "height": 266
    },
    "id": "G-Yj9GoAxUhV",
    "outputId": "919f18ea-ba38-4b77-e077-58aa1f4dc1a0"
   },
   "outputs": [
    {
     "data": {
      "text/html": [
       "<div>\n",
       "<style scoped>\n",
       "    .dataframe tbody tr th:only-of-type {\n",
       "        vertical-align: middle;\n",
       "    }\n",
       "\n",
       "    .dataframe tbody tr th {\n",
       "        vertical-align: top;\n",
       "    }\n",
       "\n",
       "    .dataframe thead th {\n",
       "        text-align: right;\n",
       "    }\n",
       "</style>\n",
       "<table border=\"1\" class=\"dataframe\">\n",
       "  <thead>\n",
       "    <tr style=\"text-align: right;\">\n",
       "      <th></th>\n",
       "      <th>molecule_chembl_id</th>\n",
       "      <th>Smiles</th>\n",
       "      <th>standard_type</th>\n",
       "      <th>standard_value</th>\n",
       "      <th>standard_units</th>\n",
       "      <th>assay_type</th>\n",
       "      <th>assay_organism</th>\n",
       "      <th>target_organism</th>\n",
       "    </tr>\n",
       "  </thead>\n",
       "  <tbody>\n",
       "    <tr>\n",
       "      <th>0</th>\n",
       "      <td>CHEMBL3903492</td>\n",
       "      <td>Cc1n[nH]c2ncc(C(=O)N3CCC[C@H]3c3ccc(Cl)cc3)cc12</td>\n",
       "      <td>TIME</td>\n",
       "      <td>0.3</td>\n",
       "      <td>hr</td>\n",
       "      <td>B</td>\n",
       "      <td>Homo sapiens</td>\n",
       "      <td>Homo sapiens</td>\n",
       "    </tr>\n",
       "    <tr>\n",
       "      <th>1</th>\n",
       "      <td>CHEMBL3827118</td>\n",
       "      <td>COC1CN(C(=O)c2ccc3cncc(-c4ccc(-c5cnn(C)c5)cc4)...</td>\n",
       "      <td>IC50</td>\n",
       "      <td>5.2</td>\n",
       "      <td>nM</td>\n",
       "      <td>B</td>\n",
       "      <td>Homo sapiens</td>\n",
       "      <td>Homo sapiens</td>\n",
       "    </tr>\n",
       "    <tr>\n",
       "      <th>2</th>\n",
       "      <td>CHEMBL604483</td>\n",
       "      <td>COc1cc2c(Oc3ccc(-c4nc5ccccc5s4)cc3F)ncnc2cc1OC...</td>\n",
       "      <td>Residual activity</td>\n",
       "      <td>75.0</td>\n",
       "      <td>%</td>\n",
       "      <td>B</td>\n",
       "      <td>None</td>\n",
       "      <td>Homo sapiens</td>\n",
       "    </tr>\n",
       "    <tr>\n",
       "      <th>3</th>\n",
       "      <td>CHEMBL3827904</td>\n",
       "      <td>Cn1cc(-c2ccc(-c3cnc(N)c4ccc(C(=O)N5CC(F)(F)C5)...</td>\n",
       "      <td>IC50</td>\n",
       "      <td>12.0</td>\n",
       "      <td>nM</td>\n",
       "      <td>B</td>\n",
       "      <td>Homo sapiens</td>\n",
       "      <td>Homo sapiens</td>\n",
       "    </tr>\n",
       "    <tr>\n",
       "      <th>4</th>\n",
       "      <td>CHEMBL3746293</td>\n",
       "      <td>Cc1c(-c2cc(Nc3cc4n(n3)CCN(C)C4)c(=O)[nH]n2)ccc...</td>\n",
       "      <td>Inhibition</td>\n",
       "      <td>1.0</td>\n",
       "      <td>%</td>\n",
       "      <td>B</td>\n",
       "      <td>Homo sapiens</td>\n",
       "      <td>Homo sapiens</td>\n",
       "    </tr>\n",
       "  </tbody>\n",
       "</table>\n",
       "</div>"
      ],
      "text/plain": [
       "  molecule_chembl_id                                             Smiles  \\\n",
       "0      CHEMBL3903492    Cc1n[nH]c2ncc(C(=O)N3CCC[C@H]3c3ccc(Cl)cc3)cc12   \n",
       "1      CHEMBL3827118  COC1CN(C(=O)c2ccc3cncc(-c4ccc(-c5cnn(C)c5)cc4)...   \n",
       "2       CHEMBL604483  COc1cc2c(Oc3ccc(-c4nc5ccccc5s4)cc3F)ncnc2cc1OC...   \n",
       "3      CHEMBL3827904  Cn1cc(-c2ccc(-c3cnc(N)c4ccc(C(=O)N5CC(F)(F)C5)...   \n",
       "4      CHEMBL3746293  Cc1c(-c2cc(Nc3cc4n(n3)CCN(C)C4)c(=O)[nH]n2)ccc...   \n",
       "\n",
       "       standard_type  standard_value standard_units assay_type assay_organism  \\\n",
       "0               TIME             0.3             hr          B   Homo sapiens   \n",
       "1               IC50             5.2             nM          B   Homo sapiens   \n",
       "2  Residual activity            75.0              %          B           None   \n",
       "3               IC50            12.0             nM          B   Homo sapiens   \n",
       "4         Inhibition             1.0              %          B   Homo sapiens   \n",
       "\n",
       "  target_organism  \n",
       "0    Homo sapiens  \n",
       "1    Homo sapiens  \n",
       "2    Homo sapiens  \n",
       "3    Homo sapiens  \n",
       "4    Homo sapiens  "
      ]
     },
     "execution_count": 60,
     "metadata": {},
     "output_type": "execute_result"
    }
   ],
   "source": [
    "data_ed.head()"
   ]
  },
  {
   "cell_type": "code",
   "execution_count": 61,
   "metadata": {
    "id": "dC7kwd_evwGy"
   },
   "outputs": [],
   "source": [
    "data_last = data_ed.query(\"assay_type=='B' & assay_organism =='Homo sapiens'& target_organism =='Homo sapiens'\")"
   ]
  },
  {
   "cell_type": "code",
   "execution_count": 62,
   "metadata": {
    "colab": {
     "base_uri": "https://localhost:8080/",
     "height": 422
    },
    "id": "obEMvVA63Vki",
    "outputId": "6abea0db-1bff-4bbf-e0fc-4bb60dbe3f3f"
   },
   "outputs": [
    {
     "data": {
      "text/html": [
       "<div>\n",
       "<style scoped>\n",
       "    .dataframe tbody tr th:only-of-type {\n",
       "        vertical-align: middle;\n",
       "    }\n",
       "\n",
       "    .dataframe tbody tr th {\n",
       "        vertical-align: top;\n",
       "    }\n",
       "\n",
       "    .dataframe thead th {\n",
       "        text-align: right;\n",
       "    }\n",
       "</style>\n",
       "<table border=\"1\" class=\"dataframe\">\n",
       "  <thead>\n",
       "    <tr style=\"text-align: right;\">\n",
       "      <th></th>\n",
       "      <th>molecule_chembl_id</th>\n",
       "      <th>Smiles</th>\n",
       "      <th>standard_type</th>\n",
       "      <th>standard_value</th>\n",
       "      <th>standard_units</th>\n",
       "      <th>assay_type</th>\n",
       "      <th>assay_organism</th>\n",
       "      <th>target_organism</th>\n",
       "    </tr>\n",
       "  </thead>\n",
       "  <tbody>\n",
       "    <tr>\n",
       "      <th>0</th>\n",
       "      <td>CHEMBL3903492</td>\n",
       "      <td>Cc1n[nH]c2ncc(C(=O)N3CCC[C@H]3c3ccc(Cl)cc3)cc12</td>\n",
       "      <td>TIME</td>\n",
       "      <td>0.3</td>\n",
       "      <td>hr</td>\n",
       "      <td>B</td>\n",
       "      <td>Homo sapiens</td>\n",
       "      <td>Homo sapiens</td>\n",
       "    </tr>\n",
       "    <tr>\n",
       "      <th>1</th>\n",
       "      <td>CHEMBL3827118</td>\n",
       "      <td>COC1CN(C(=O)c2ccc3cncc(-c4ccc(-c5cnn(C)c5)cc4)...</td>\n",
       "      <td>IC50</td>\n",
       "      <td>5.2</td>\n",
       "      <td>nM</td>\n",
       "      <td>B</td>\n",
       "      <td>Homo sapiens</td>\n",
       "      <td>Homo sapiens</td>\n",
       "    </tr>\n",
       "    <tr>\n",
       "      <th>3</th>\n",
       "      <td>CHEMBL3827904</td>\n",
       "      <td>Cn1cc(-c2ccc(-c3cnc(N)c4ccc(C(=O)N5CC(F)(F)C5)...</td>\n",
       "      <td>IC50</td>\n",
       "      <td>12.0</td>\n",
       "      <td>nM</td>\n",
       "      <td>B</td>\n",
       "      <td>Homo sapiens</td>\n",
       "      <td>Homo sapiens</td>\n",
       "    </tr>\n",
       "    <tr>\n",
       "      <th>4</th>\n",
       "      <td>CHEMBL3746293</td>\n",
       "      <td>Cc1c(-c2cc(Nc3cc4n(n3)CCN(C)C4)c(=O)[nH]n2)ccc...</td>\n",
       "      <td>Inhibition</td>\n",
       "      <td>1.0</td>\n",
       "      <td>%</td>\n",
       "      <td>B</td>\n",
       "      <td>Homo sapiens</td>\n",
       "      <td>Homo sapiens</td>\n",
       "    </tr>\n",
       "    <tr>\n",
       "      <th>5</th>\n",
       "      <td>CHEMBL3827470</td>\n",
       "      <td>Cn1cc(-c2ccc(-c3cncc4ccc(N5CCCC5=O)nc34)cc2)cn1</td>\n",
       "      <td>IC50</td>\n",
       "      <td>2.4</td>\n",
       "      <td>nM</td>\n",
       "      <td>B</td>\n",
       "      <td>Homo sapiens</td>\n",
       "      <td>Homo sapiens</td>\n",
       "    </tr>\n",
       "    <tr>\n",
       "      <th>...</th>\n",
       "      <td>...</td>\n",
       "      <td>...</td>\n",
       "      <td>...</td>\n",
       "      <td>...</td>\n",
       "      <td>...</td>\n",
       "      <td>...</td>\n",
       "      <td>...</td>\n",
       "      <td>...</td>\n",
       "    </tr>\n",
       "    <tr>\n",
       "      <th>381</th>\n",
       "      <td>CHEMBL4080906</td>\n",
       "      <td>CN(C)[C@H]1C[C@@]23CC[C@@]4(O2)C(=CC[C@]2(C)[C...</td>\n",
       "      <td>IC50</td>\n",
       "      <td>5.0</td>\n",
       "      <td>nM</td>\n",
       "      <td>B</td>\n",
       "      <td>Homo sapiens</td>\n",
       "      <td>Homo sapiens</td>\n",
       "    </tr>\n",
       "    <tr>\n",
       "      <th>382</th>\n",
       "      <td>CHEMBL4076837</td>\n",
       "      <td>CN1CCN(C(=O)c2ccc3cc(CCNc4ncnc5ccc(C#N)cc45)cc...</td>\n",
       "      <td>IC50</td>\n",
       "      <td>24.0</td>\n",
       "      <td>nM</td>\n",
       "      <td>B</td>\n",
       "      <td>Homo sapiens</td>\n",
       "      <td>Homo sapiens</td>\n",
       "    </tr>\n",
       "    <tr>\n",
       "      <th>383</th>\n",
       "      <td>CHEMBL4173631</td>\n",
       "      <td>Cn1cc(-c2ccc(S(=O)(=O)N3CCC(Nc4ccc(C#N)cn4)CC3...</td>\n",
       "      <td>IC50</td>\n",
       "      <td>10000.0</td>\n",
       "      <td>nM</td>\n",
       "      <td>B</td>\n",
       "      <td>Homo sapiens</td>\n",
       "      <td>Homo sapiens</td>\n",
       "    </tr>\n",
       "    <tr>\n",
       "      <th>384</th>\n",
       "      <td>CHEMBL4217392</td>\n",
       "      <td>CS(=O)(=O)N1CCN(Cc2nc3c(N4CCOCC4)nc(-c4cnc(N)n...</td>\n",
       "      <td>Inhibition</td>\n",
       "      <td>25.0</td>\n",
       "      <td>%</td>\n",
       "      <td>B</td>\n",
       "      <td>Homo sapiens</td>\n",
       "      <td>Homo sapiens</td>\n",
       "    </tr>\n",
       "    <tr>\n",
       "      <th>385</th>\n",
       "      <td>CHEMBL4277900</td>\n",
       "      <td>CC1=Nc2c(F)cc(-c3nc(Nc4ccc(C5CCN(C)CC5)cn4)ncc...</td>\n",
       "      <td>Inhibition</td>\n",
       "      <td>43.0</td>\n",
       "      <td>%</td>\n",
       "      <td>B</td>\n",
       "      <td>Homo sapiens</td>\n",
       "      <td>Homo sapiens</td>\n",
       "    </tr>\n",
       "  </tbody>\n",
       "</table>\n",
       "<p>374 rows × 8 columns</p>\n",
       "</div>"
      ],
      "text/plain": [
       "    molecule_chembl_id                                             Smiles  \\\n",
       "0        CHEMBL3903492    Cc1n[nH]c2ncc(C(=O)N3CCC[C@H]3c3ccc(Cl)cc3)cc12   \n",
       "1        CHEMBL3827118  COC1CN(C(=O)c2ccc3cncc(-c4ccc(-c5cnn(C)c5)cc4)...   \n",
       "3        CHEMBL3827904  Cn1cc(-c2ccc(-c3cnc(N)c4ccc(C(=O)N5CC(F)(F)C5)...   \n",
       "4        CHEMBL3746293  Cc1c(-c2cc(Nc3cc4n(n3)CCN(C)C4)c(=O)[nH]n2)ccc...   \n",
       "5        CHEMBL3827470    Cn1cc(-c2ccc(-c3cncc4ccc(N5CCCC5=O)nc34)cc2)cn1   \n",
       "..                 ...                                                ...   \n",
       "381      CHEMBL4080906  CN(C)[C@H]1C[C@@]23CC[C@@]4(O2)C(=CC[C@]2(C)[C...   \n",
       "382      CHEMBL4076837  CN1CCN(C(=O)c2ccc3cc(CCNc4ncnc5ccc(C#N)cc45)cc...   \n",
       "383      CHEMBL4173631  Cn1cc(-c2ccc(S(=O)(=O)N3CCC(Nc4ccc(C#N)cn4)CC3...   \n",
       "384      CHEMBL4217392  CS(=O)(=O)N1CCN(Cc2nc3c(N4CCOCC4)nc(-c4cnc(N)n...   \n",
       "385      CHEMBL4277900  CC1=Nc2c(F)cc(-c3nc(Nc4ccc(C5CCN(C)CC5)cn4)ncc...   \n",
       "\n",
       "    standard_type  standard_value standard_units assay_type assay_organism  \\\n",
       "0            TIME             0.3             hr          B   Homo sapiens   \n",
       "1            IC50             5.2             nM          B   Homo sapiens   \n",
       "3            IC50            12.0             nM          B   Homo sapiens   \n",
       "4      Inhibition             1.0              %          B   Homo sapiens   \n",
       "5            IC50             2.4             nM          B   Homo sapiens   \n",
       "..            ...             ...            ...        ...            ...   \n",
       "381          IC50             5.0             nM          B   Homo sapiens   \n",
       "382          IC50            24.0             nM          B   Homo sapiens   \n",
       "383          IC50         10000.0             nM          B   Homo sapiens   \n",
       "384    Inhibition            25.0              %          B   Homo sapiens   \n",
       "385    Inhibition            43.0              %          B   Homo sapiens   \n",
       "\n",
       "    target_organism  \n",
       "0      Homo sapiens  \n",
       "1      Homo sapiens  \n",
       "3      Homo sapiens  \n",
       "4      Homo sapiens  \n",
       "5      Homo sapiens  \n",
       "..              ...  \n",
       "381    Homo sapiens  \n",
       "382    Homo sapiens  \n",
       "383    Homo sapiens  \n",
       "384    Homo sapiens  \n",
       "385    Homo sapiens  \n",
       "\n",
       "[374 rows x 8 columns]"
      ]
     },
     "execution_count": 62,
     "metadata": {},
     "output_type": "execute_result"
    }
   ],
   "source": [
    "data_last"
   ]
  },
  {
   "cell_type": "code",
   "execution_count": 63,
   "metadata": {
    "id": "iKUoJSoZ31ju"
   },
   "outputs": [],
   "source": [
    "data_last.to_csv('Data.csv', index=False)"
   ]
  },
  {
   "cell_type": "code",
   "execution_count": null,
   "metadata": {},
   "outputs": [],
   "source": []
  },
  {
   "cell_type": "code",
   "execution_count": null,
   "metadata": {},
   "outputs": [],
   "source": []
  },
  {
   "cell_type": "code",
   "execution_count": null,
   "metadata": {},
   "outputs": [],
   "source": []
  }
 ],
 "metadata": {
  "colab": {
   "collapsed_sections": [],
   "name": "CAAD-2.ipynb",
   "provenance": []
  },
  "kernelspec": {
   "display_name": "Python 3",
   "language": "python",
   "name": "python3"
  },
  "language_info": {
   "codemirror_mode": {
    "name": "ipython",
    "version": 3
   },
   "file_extension": ".py",
   "mimetype": "text/x-python",
   "name": "python",
   "nbconvert_exporter": "python",
   "pygments_lexer": "ipython3",
   "version": "3.8.5"
  }
 },
 "nbformat": 4,
 "nbformat_minor": 1
}
