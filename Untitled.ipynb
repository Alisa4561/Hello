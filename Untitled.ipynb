{
 "cells": [
  {
   "cell_type": "code",
   "execution_count": 1,
   "metadata": {},
   "outputs": [],
   "source": [
    "import pandas as pd\n",
    "from statistics import mean, mode, median\n",
    "import numpy as np\n",
    "import seaborn as sns"
   ]
  },
  {
   "cell_type": "code",
   "execution_count": 2,
   "metadata": {},
   "outputs": [],
   "source": [
    "data = pd.read_csv('Data.csv')"
   ]
  },
  {
   "cell_type": "code",
   "execution_count": 3,
   "metadata": {},
   "outputs": [
    {
     "data": {
      "text/plain": [
       "standard_type\n",
       "IC50          256\n",
       "INH             1\n",
       "Inhibition    109\n",
       "TIME            8\n",
       "dtype: int64"
      ]
     },
     "execution_count": 3,
     "metadata": {},
     "output_type": "execute_result"
    }
   ],
   "source": [
    "data.pivot_table(index = ['standard_type'], aggfunc='size')"
   ]
  },
  {
   "cell_type": "code",
   "execution_count": 4,
   "metadata": {},
   "outputs": [],
   "source": [
    "data = data.query(\"standard_type == 'IC50'\")"
   ]
  },
  {
   "cell_type": "code",
   "execution_count": 5,
   "metadata": {},
   "outputs": [
    {
     "data": {
      "text/html": [
       "<div>\n",
       "<style scoped>\n",
       "    .dataframe tbody tr th:only-of-type {\n",
       "        vertical-align: middle;\n",
       "    }\n",
       "\n",
       "    .dataframe tbody tr th {\n",
       "        vertical-align: top;\n",
       "    }\n",
       "\n",
       "    .dataframe thead th {\n",
       "        text-align: right;\n",
       "    }\n",
       "</style>\n",
       "<table border=\"1\" class=\"dataframe\">\n",
       "  <thead>\n",
       "    <tr style=\"text-align: right;\">\n",
       "      <th></th>\n",
       "      <th>molecule_chembl_id</th>\n",
       "      <th>Smiles</th>\n",
       "      <th>standard_type</th>\n",
       "      <th>standard_value</th>\n",
       "      <th>standard_units</th>\n",
       "      <th>assay_type</th>\n",
       "      <th>assay_organism</th>\n",
       "      <th>target_organism</th>\n",
       "    </tr>\n",
       "  </thead>\n",
       "  <tbody>\n",
       "    <tr>\n",
       "      <th>1</th>\n",
       "      <td>CHEMBL3827118</td>\n",
       "      <td>COC1CN(C(=O)c2ccc3cncc(-c4ccc(-c5cnn(C)c5)cc4)...</td>\n",
       "      <td>IC50</td>\n",
       "      <td>5.2</td>\n",
       "      <td>nM</td>\n",
       "      <td>B</td>\n",
       "      <td>Homo sapiens</td>\n",
       "      <td>Homo sapiens</td>\n",
       "    </tr>\n",
       "    <tr>\n",
       "      <th>2</th>\n",
       "      <td>CHEMBL3827904</td>\n",
       "      <td>Cn1cc(-c2ccc(-c3cnc(N)c4ccc(C(=O)N5CC(F)(F)C5)...</td>\n",
       "      <td>IC50</td>\n",
       "      <td>12.0</td>\n",
       "      <td>nM</td>\n",
       "      <td>B</td>\n",
       "      <td>Homo sapiens</td>\n",
       "      <td>Homo sapiens</td>\n",
       "    </tr>\n",
       "    <tr>\n",
       "      <th>4</th>\n",
       "      <td>CHEMBL3827470</td>\n",
       "      <td>Cn1cc(-c2ccc(-c3cncc4ccc(N5CCCC5=O)nc34)cc2)cn1</td>\n",
       "      <td>IC50</td>\n",
       "      <td>2.4</td>\n",
       "      <td>nM</td>\n",
       "      <td>B</td>\n",
       "      <td>Homo sapiens</td>\n",
       "      <td>Homo sapiens</td>\n",
       "    </tr>\n",
       "    <tr>\n",
       "      <th>5</th>\n",
       "      <td>CHEMBL3828523</td>\n",
       "      <td>Cn1cc(-c2ccc(-c3cncc4ccc(C(=O)N5CCCC5)nc34)cc2...</td>\n",
       "      <td>IC50</td>\n",
       "      <td>3.5</td>\n",
       "      <td>nM</td>\n",
       "      <td>B</td>\n",
       "      <td>Homo sapiens</td>\n",
       "      <td>Homo sapiens</td>\n",
       "    </tr>\n",
       "    <tr>\n",
       "      <th>6</th>\n",
       "      <td>CHEMBL3827790</td>\n",
       "      <td>Cn1cc(-c2ccc(-c3cncc4ccc(N5CCCS5(=O)=O)cc34)cc...</td>\n",
       "      <td>IC50</td>\n",
       "      <td>6.7</td>\n",
       "      <td>nM</td>\n",
       "      <td>B</td>\n",
       "      <td>Homo sapiens</td>\n",
       "      <td>Homo sapiens</td>\n",
       "    </tr>\n",
       "  </tbody>\n",
       "</table>\n",
       "</div>"
      ],
      "text/plain": [
       "  molecule_chembl_id                                             Smiles  \\\n",
       "1      CHEMBL3827118  COC1CN(C(=O)c2ccc3cncc(-c4ccc(-c5cnn(C)c5)cc4)...   \n",
       "2      CHEMBL3827904  Cn1cc(-c2ccc(-c3cnc(N)c4ccc(C(=O)N5CC(F)(F)C5)...   \n",
       "4      CHEMBL3827470    Cn1cc(-c2ccc(-c3cncc4ccc(N5CCCC5=O)nc34)cc2)cn1   \n",
       "5      CHEMBL3828523  Cn1cc(-c2ccc(-c3cncc4ccc(C(=O)N5CCCC5)nc34)cc2...   \n",
       "6      CHEMBL3827790  Cn1cc(-c2ccc(-c3cncc4ccc(N5CCCS5(=O)=O)cc34)cc...   \n",
       "\n",
       "  standard_type  standard_value standard_units assay_type assay_organism  \\\n",
       "1          IC50             5.2             nM          B   Homo sapiens   \n",
       "2          IC50            12.0             nM          B   Homo sapiens   \n",
       "4          IC50             2.4             nM          B   Homo sapiens   \n",
       "5          IC50             3.5             nM          B   Homo sapiens   \n",
       "6          IC50             6.7             nM          B   Homo sapiens   \n",
       "\n",
       "  target_organism  \n",
       "1    Homo sapiens  \n",
       "2    Homo sapiens  \n",
       "4    Homo sapiens  \n",
       "5    Homo sapiens  \n",
       "6    Homo sapiens  "
      ]
     },
     "execution_count": 5,
     "metadata": {},
     "output_type": "execute_result"
    }
   ],
   "source": [
    "data.head()"
   ]
  },
  {
   "cell_type": "code",
   "execution_count": 6,
   "metadata": {},
   "outputs": [
    {
     "data": {
      "text/plain": [
       "standard_units\n",
       "nM    256\n",
       "dtype: int64"
      ]
     },
     "execution_count": 6,
     "metadata": {},
     "output_type": "execute_result"
    }
   ],
   "source": [
    "data.pivot_table(index = ['standard_units'], aggfunc='size')"
   ]
  },
  {
   "cell_type": "code",
   "execution_count": 7,
   "metadata": {},
   "outputs": [],
   "source": [
    "def statDescribe (data):\n",
    "    data_min = min(data)\n",
    "    data_max = max(data)\n",
    "    data_mean = round(mean(data), 2)\n",
    "    data_mode = mode(data)\n",
    "    data_median = median(data)\n",
    "    print('Минимальное значение: {0} \\nМаксимальное значение: {1} \\nСреднее значение: {2} \\nМода: {3} \\nМедиана: {4}'\\\n",
    "          .format(data_min, data_max, data_mean, data_mode, data_median))"
   ]
  },
  {
   "cell_type": "code",
   "execution_count": 8,
   "metadata": {},
   "outputs": [
    {
     "name": "stdout",
     "output_type": "stream",
     "text": [
      "Минимальное значение: 0.2 \n",
      "Максимальное значение: 30000.0 \n",
      "Среднее значение: 541.28 \n",
      "Мода: 10000.0 \n",
      "Медиана: 11.5\n"
     ]
    }
   ],
   "source": [
    "statDescribe(data['standard_value'])"
   ]
  },
  {
   "cell_type": "code",
   "execution_count": 9,
   "metadata": {},
   "outputs": [],
   "source": [
    "def calcPic50(st_values):\n",
    "    for i in range(0, len(st_values)):\n",
    "        st_values[i] = st_values[i]*10**-9\n",
    "        st_values[i] = round(-np.log10(st_values[i]), 3)\n",
    "    return st_values"
   ]
  },
  {
   "cell_type": "code",
   "execution_count": 10,
   "metadata": {},
   "outputs": [],
   "source": [
    "st_val = list(data['standard_value'])"
   ]
  },
  {
   "cell_type": "code",
   "execution_count": 11,
   "metadata": {},
   "outputs": [],
   "source": [
    "pic50_vals = calcPic50(st_val)"
   ]
  },
  {
   "cell_type": "code",
   "execution_count": 12,
   "metadata": {},
   "outputs": [
    {
     "name": "stderr",
     "output_type": "stream",
     "text": [
      "C:\\Users\\user\\anaconda3\\lib\\site-packages\\seaborn\\distributions.py:2551: FutureWarning: `distplot` is a deprecated function and will be removed in a future version. Please adapt your code to use either `displot` (a figure-level function with similar flexibility) or `histplot` (an axes-level function for histograms).\n",
      "  warnings.warn(msg, FutureWarning)\n"
     ]
    },
    {
     "data": {
      "image/png": "[encoded data removed]",
      "text/plain": [
       "<Figure size 432x288 with 1 Axes>"
      ]
     },
     "metadata": {
      "needs_background": "light"
     },
     "output_type": "display_data"
    }
   ],
   "source": [
    "plot = sns.distplot(pic50_vals)"
   ]
  },
  {
   "cell_type": "code",
   "execution_count": 13,
   "metadata": {},
   "outputs": [
    {
     "name": "stdout",
     "output_type": "stream",
     "text": [
      "Минимальное значение: 4.523 \n",
      "Максимальное значение: 9.699 \n",
      "Среднее значение: 7.74 \n",
      "Мода: 5.0 \n",
      "Медиана: 7.9399999999999995\n"
     ]
    }
   ],
   "source": [
    "statDescribe(pic50_vals)"
   ]
  },
  {
   "cell_type": "code",
   "execution_count": 17,
   "metadata": {},
   "outputs": [],
   "source": [
    "data['pIC50'] = pic50_vals"
   ]
  },
  {
   "cell_type": "code",
   "execution_count": 18,
   "metadata": {},
   "outputs": [
    {
     "data": {
      "text/html": [
       "<div>\n",
       "<style scoped>\n",
       "    .dataframe tbody tr th:only-of-type {\n",
       "        vertical-align: middle;\n",
       "    }\n",
       "\n",
       "    .dataframe tbody tr th {\n",
       "        vertical-align: top;\n",
       "    }\n",
       "\n",
       "    .dataframe thead th {\n",
       "        text-align: right;\n",
       "    }\n",
       "</style>\n",
       "<table border=\"1\" class=\"dataframe\">\n",
       "  <thead>\n",
       "    <tr style=\"text-align: right;\">\n",
       "      <th></th>\n",
       "      <th>molecule_chembl_id</th>\n",
       "      <th>Smiles</th>\n",
       "      <th>standard_type</th>\n",
       "      <th>standard_value</th>\n",
       "      <th>standard_units</th>\n",
       "      <th>assay_type</th>\n",
       "      <th>assay_organism</th>\n",
       "      <th>target_organism</th>\n",
       "      <th>pIC50</th>\n",
       "    </tr>\n",
       "  </thead>\n",
       "  <tbody>\n",
       "    <tr>\n",
       "      <th>1</th>\n",
       "      <td>CHEMBL3827118</td>\n",
       "      <td>COC1CN(C(=O)c2ccc3cncc(-c4ccc(-c5cnn(C)c5)cc4)...</td>\n",
       "      <td>IC50</td>\n",
       "      <td>5.2</td>\n",
       "      <td>nM</td>\n",
       "      <td>B</td>\n",
       "      <td>Homo sapiens</td>\n",
       "      <td>Homo sapiens</td>\n",
       "      <td>8.284</td>\n",
       "    </tr>\n",
       "    <tr>\n",
       "      <th>2</th>\n",
       "      <td>CHEMBL3827904</td>\n",
       "      <td>Cn1cc(-c2ccc(-c3cnc(N)c4ccc(C(=O)N5CC(F)(F)C5)...</td>\n",
       "      <td>IC50</td>\n",
       "      <td>12.0</td>\n",
       "      <td>nM</td>\n",
       "      <td>B</td>\n",
       "      <td>Homo sapiens</td>\n",
       "      <td>Homo sapiens</td>\n",
       "      <td>7.921</td>\n",
       "    </tr>\n",
       "    <tr>\n",
       "      <th>4</th>\n",
       "      <td>CHEMBL3827470</td>\n",
       "      <td>Cn1cc(-c2ccc(-c3cncc4ccc(N5CCCC5=O)nc34)cc2)cn1</td>\n",
       "      <td>IC50</td>\n",
       "      <td>2.4</td>\n",
       "      <td>nM</td>\n",
       "      <td>B</td>\n",
       "      <td>Homo sapiens</td>\n",
       "      <td>Homo sapiens</td>\n",
       "      <td>8.620</td>\n",
       "    </tr>\n",
       "    <tr>\n",
       "      <th>5</th>\n",
       "      <td>CHEMBL3828523</td>\n",
       "      <td>Cn1cc(-c2ccc(-c3cncc4ccc(C(=O)N5CCCC5)nc34)cc2...</td>\n",
       "      <td>IC50</td>\n",
       "      <td>3.5</td>\n",
       "      <td>nM</td>\n",
       "      <td>B</td>\n",
       "      <td>Homo sapiens</td>\n",
       "      <td>Homo sapiens</td>\n",
       "      <td>8.456</td>\n",
       "    </tr>\n",
       "    <tr>\n",
       "      <th>6</th>\n",
       "      <td>CHEMBL3827790</td>\n",
       "      <td>Cn1cc(-c2ccc(-c3cncc4ccc(N5CCCS5(=O)=O)cc34)cc...</td>\n",
       "      <td>IC50</td>\n",
       "      <td>6.7</td>\n",
       "      <td>nM</td>\n",
       "      <td>B</td>\n",
       "      <td>Homo sapiens</td>\n",
       "      <td>Homo sapiens</td>\n",
       "      <td>8.174</td>\n",
       "    </tr>\n",
       "  </tbody>\n",
       "</table>\n",
       "</div>"
      ],
      "text/plain": [
       "  molecule_chembl_id                                             Smiles  \\\n",
       "1      CHEMBL3827118  COC1CN(C(=O)c2ccc3cncc(-c4ccc(-c5cnn(C)c5)cc4)...   \n",
       "2      CHEMBL3827904  Cn1cc(-c2ccc(-c3cnc(N)c4ccc(C(=O)N5CC(F)(F)C5)...   \n",
       "4      CHEMBL3827470    Cn1cc(-c2ccc(-c3cncc4ccc(N5CCCC5=O)nc34)cc2)cn1   \n",
       "5      CHEMBL3828523  Cn1cc(-c2ccc(-c3cncc4ccc(C(=O)N5CCCC5)nc34)cc2...   \n",
       "6      CHEMBL3827790  Cn1cc(-c2ccc(-c3cncc4ccc(N5CCCS5(=O)=O)cc34)cc...   \n",
       "\n",
       "  standard_type  standard_value standard_units assay_type assay_organism  \\\n",
       "1          IC50             5.2             nM          B   Homo sapiens   \n",
       "2          IC50            12.0             nM          B   Homo sapiens   \n",
       "4          IC50             2.4             nM          B   Homo sapiens   \n",
       "5          IC50             3.5             nM          B   Homo sapiens   \n",
       "6          IC50             6.7             nM          B   Homo sapiens   \n",
       "\n",
       "  target_organism  pIC50  \n",
       "1    Homo sapiens  8.284  \n",
       "2    Homo sapiens  7.921  \n",
       "4    Homo sapiens  8.620  \n",
       "5    Homo sapiens  8.456  \n",
       "6    Homo sapiens  8.174  "
      ]
     },
     "execution_count": 18,
     "metadata": {},
     "output_type": "execute_result"
    }
   ],
   "source": [
    "data.head()"
   ]
  },
  {
   "cell_type": "code",
   "execution_count": 19,
   "metadata": {},
   "outputs": [
    {
     "data": {
      "text/html": [
       "<div>\n",
       "<style scoped>\n",
       "    .dataframe tbody tr th:only-of-type {\n",
       "        vertical-align: middle;\n",
       "    }\n",
       "\n",
       "    .dataframe tbody tr th {\n",
       "        vertical-align: top;\n",
       "    }\n",
       "\n",
       "    .dataframe thead th {\n",
       "        text-align: right;\n",
       "    }\n",
       "</style>\n",
       "<table border=\"1\" class=\"dataframe\">\n",
       "  <thead>\n",
       "    <tr style=\"text-align: right;\">\n",
       "      <th></th>\n",
       "      <th>molecule_chembl_id</th>\n",
       "      <th>Smiles</th>\n",
       "      <th>standard_type</th>\n",
       "      <th>standard_value</th>\n",
       "      <th>standard_units</th>\n",
       "      <th>assay_type</th>\n",
       "      <th>assay_organism</th>\n",
       "      <th>target_organism</th>\n",
       "      <th>pIC50</th>\n",
       "    </tr>\n",
       "  </thead>\n",
       "  <tbody>\n",
       "    <tr>\n",
       "      <th>1</th>\n",
       "      <td>CHEMBL3827118</td>\n",
       "      <td>COC1CN(C(=O)c2ccc3cncc(-c4ccc(-c5cnn(C)c5)cc4)...</td>\n",
       "      <td>IC50</td>\n",
       "      <td>5.2</td>\n",
       "      <td>nM</td>\n",
       "      <td>B</td>\n",
       "      <td>Homo sapiens</td>\n",
       "      <td>Homo sapiens</td>\n",
       "      <td>8.284</td>\n",
       "    </tr>\n",
       "    <tr>\n",
       "      <th>4</th>\n",
       "      <td>CHEMBL3827470</td>\n",
       "      <td>Cn1cc(-c2ccc(-c3cncc4ccc(N5CCCC5=O)nc34)cc2)cn1</td>\n",
       "      <td>IC50</td>\n",
       "      <td>2.4</td>\n",
       "      <td>nM</td>\n",
       "      <td>B</td>\n",
       "      <td>Homo sapiens</td>\n",
       "      <td>Homo sapiens</td>\n",
       "      <td>8.620</td>\n",
       "    </tr>\n",
       "    <tr>\n",
       "      <th>5</th>\n",
       "      <td>CHEMBL3828523</td>\n",
       "      <td>Cn1cc(-c2ccc(-c3cncc4ccc(C(=O)N5CCCC5)nc34)cc2...</td>\n",
       "      <td>IC50</td>\n",
       "      <td>3.5</td>\n",
       "      <td>nM</td>\n",
       "      <td>B</td>\n",
       "      <td>Homo sapiens</td>\n",
       "      <td>Homo sapiens</td>\n",
       "      <td>8.456</td>\n",
       "    </tr>\n",
       "    <tr>\n",
       "      <th>6</th>\n",
       "      <td>CHEMBL3827790</td>\n",
       "      <td>Cn1cc(-c2ccc(-c3cncc4ccc(N5CCCS5(=O)=O)cc34)cc...</td>\n",
       "      <td>IC50</td>\n",
       "      <td>6.7</td>\n",
       "      <td>nM</td>\n",
       "      <td>B</td>\n",
       "      <td>Homo sapiens</td>\n",
       "      <td>Homo sapiens</td>\n",
       "      <td>8.174</td>\n",
       "    </tr>\n",
       "    <tr>\n",
       "      <th>7</th>\n",
       "      <td>CHEMBL3828553</td>\n",
       "      <td>COC1CN(C(=O)c2ccc3c(N)ncc(-c4ccc(-c5cnn(C)c5)c...</td>\n",
       "      <td>IC50</td>\n",
       "      <td>1.1</td>\n",
       "      <td>nM</td>\n",
       "      <td>B</td>\n",
       "      <td>Homo sapiens</td>\n",
       "      <td>Homo sapiens</td>\n",
       "      <td>8.959</td>\n",
       "    </tr>\n",
       "  </tbody>\n",
       "</table>\n",
       "</div>"
      ],
      "text/plain": [
       "  molecule_chembl_id                                             Smiles  \\\n",
       "1      CHEMBL3827118  COC1CN(C(=O)c2ccc3cncc(-c4ccc(-c5cnn(C)c5)cc4)...   \n",
       "4      CHEMBL3827470    Cn1cc(-c2ccc(-c3cncc4ccc(N5CCCC5=O)nc34)cc2)cn1   \n",
       "5      CHEMBL3828523  Cn1cc(-c2ccc(-c3cncc4ccc(C(=O)N5CCCC5)nc34)cc2...   \n",
       "6      CHEMBL3827790  Cn1cc(-c2ccc(-c3cncc4ccc(N5CCCS5(=O)=O)cc34)cc...   \n",
       "7      CHEMBL3828553  COC1CN(C(=O)c2ccc3c(N)ncc(-c4ccc(-c5cnn(C)c5)c...   \n",
       "\n",
       "  standard_type  standard_value standard_units assay_type assay_organism  \\\n",
       "1          IC50             5.2             nM          B   Homo sapiens   \n",
       "4          IC50             2.4             nM          B   Homo sapiens   \n",
       "5          IC50             3.5             nM          B   Homo sapiens   \n",
       "6          IC50             6.7             nM          B   Homo sapiens   \n",
       "7          IC50             1.1             nM          B   Homo sapiens   \n",
       "\n",
       "  target_organism  pIC50  \n",
       "1    Homo sapiens  8.284  \n",
       "4    Homo sapiens  8.620  \n",
       "5    Homo sapiens  8.456  \n",
       "6    Homo sapiens  8.174  \n",
       "7    Homo sapiens  8.959  "
      ]
     },
     "execution_count": 19,
     "metadata": {},
     "output_type": "execute_result"
    }
   ],
   "source": [
    "data = data.query(\"pIC50 >= 8.0\")\n",
    "data.head()"
   ]
  },
  {
   "cell_type": "code",
   "execution_count": 20,
   "metadata": {},
   "outputs": [],
   "source": [
    "data.to_csv('Data_ML.csv', index=False)"
   ]
  },
  {
   "cell_type": "code",
   "execution_count": null,
   "metadata": {},
   "outputs": [],
   "source": []
  }
 ],
 "metadata": {
  "kernelspec": {
   "display_name": "Python 3",
   "language": "python",
   "name": "python3"
  },
  "language_info": {
   "codemirror_mode": {
    "name": "ipython",
    "version": 3
   },
   "file_extension": ".py",
   "mimetype": "text/x-python",
   "name": "python",
   "nbconvert_exporter": "python",
   "pygments_lexer": "ipython3",
   "version": "3.8.5"
  }
 },
 "nbformat": 4,
 "nbformat_minor": 4
}
